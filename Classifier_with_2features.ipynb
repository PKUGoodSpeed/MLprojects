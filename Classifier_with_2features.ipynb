{
 "cells": [
  {
   "cell_type": "code",
   "execution_count": 1,
   "metadata": {
    "collapsed": true
   },
   "outputs": [],
   "source": [
    "import numpy as np\n",
    "import matplotlib.pyplot as plt\n",
    "from pylab import *\n",
    "from matplotlib import colors, ticker, cm\n",
    "from matplotlib.mlab import bivariate_normal"
   ]
  },
  {
   "cell_type": "markdown",
   "metadata": {},
   "source": [
    "Define function to generate classification samples"
   ]
  },
  {
   "cell_type": "code",
   "execution_count": 2,
   "metadata": {
    "collapsed": true
   },
   "outputs": [],
   "source": [
    "'''\n",
    "Simple classicifation problem\n",
    "y = 1, when x1^2/a^2 + x2^2/b^2 <= 1.\n",
    "y = 0, otherwise\n",
    "'''\n",
    "def generatingData(N, a, b):\n",
    "    '''\n",
    "    :param N: Training set size\n",
    "    :param a: parameter\n",
    "    :param b: parameter\n",
    "    :return: training set\n",
    "    '''\n",
    "    x1 = 2.*(np.random.rand(N) - 1./2.)\n",
    "    x2 = 2.*(np.random.rand(N) - 1./2.)\n",
    "    y = np.zeros(N)\n",
    "    for i in range(N):\n",
    "        if x1[i]**2/a**2 + x2[i]**2/b**2 <= 1.:\n",
    "            y[i] = 1\n",
    "    return x1, x2, y\n"
   ]
  },
  {
   "cell_type": "markdown",
   "metadata": {},
   "source": [
    "Plotting samples"
   ]
  },
  {
   "cell_type": "code",
   "execution_count": 3,
   "metadata": {},
   "outputs": [
    {
     "data": {
      "image/png": "[encoded data removed]",
      "text/plain": [
       "<matplotlib.figure.Figure at 0x106014780>"
      ]
     },
     "metadata": {},
     "output_type": "display_data"
    }
   ],
   "source": [
    "'''Ploting the generated data'''\n",
    "x1, x2, y = generatingData(50, 0.3, 0.8)\n",
    "posi_x = []\n",
    "posi_y = []\n",
    "nega_x = []\n",
    "nega_y = []\n",
    "\n",
    "for i in range(50):\n",
    "    if y[i] == 1:\n",
    "        posi_x.append(x1[i])\n",
    "        posi_y.append(x2[i])\n",
    "    else:\n",
    "        nega_x.append(x1[i])\n",
    "        nega_y.append(x2[i])\n",
    "\n",
    "fig = plt.figure()\n",
    "ax = fig.add_subplot(111)\n",
    "ax.scatter(posi_x, posi_y, c='b', marker='x', label = \"positive set\")\n",
    "ax.scatter(nega_x, nega_y, c='r', marker='o', label = \"negative set\")\n",
    "\n",
    "ax.set_xlabel('x1 Label')\n",
    "ax.set_ylabel('x2 Label')\n",
    "ax.set_xlim((-1.2, 1.2))\n",
    "ax.set_ylim((-1.2, 1.2))\n",
    "ax.legend()\n",
    "\n",
    "plt.show()"
   ]
  },
  {
   "cell_type": "markdown",
   "metadata": {},
   "source": [
    "Define training routines:"
   ]
  },
  {
   "cell_type": "code",
   "execution_count": 4,
   "metadata": {
    "collapsed": true
   },
   "outputs": [],
   "source": [
    "'''Define Training function'''\n",
    "def sigmoidFunction(x_vec, h_vec):\n",
    "    '''\n",
    "    define sigmoid Function h(x)\n",
    "    :param x_vec: features\n",
    "    :param h_vec: parameters\n",
    "    :return: function value\n",
    "    '''\n",
    "    z = np.dot(x_vec, h_vec)\n",
    "    return 1./(1. + np.exp(-z))\n",
    "\n",
    "def trainingData(x1, x2, y, h_vec, l_rate, r_fact, N_step, Hypo):\n",
    "    '''\n",
    "    :param x1: feature #1\n",
    "    :param x2: feature #2\n",
    "    :param y: output values\n",
    "    :param h_vec: parameters\n",
    "    :param l_rate: learning rate\n",
    "    :param r_fact: regularization factor\n",
    "    :param N_step: number of iteration steps\n",
    "    :param Hypo: Hypothesis\n",
    "    :return: trainted parameters\n",
    "    '''\n",
    "    m = len(x1)\n",
    "    for step in range(N_step):\n",
    "        h_tmp = h_vec\n",
    "        regu = l_rate/m * r_fact * h_vec\n",
    "        regu[0] = 0.\n",
    "        for i in range(m):\n",
    "            x_vec = np.array([1, x1[i], x2[i], x1[i]**2, x2[i]**2, x1[i]*x2[i]])\n",
    "            h_vec -= l_rate/m * (Hypo(x_vec, h_tmp) - y[i]) * x_vec + regu\n",
    "    return h_vec"
   ]
  },
  {
   "cell_type": "markdown",
   "metadata": {},
   "source": [
    "Training the data:"
   ]
  },
  {
   "cell_type": "code",
   "execution_count": 6,
   "metadata": {},
   "outputs": [
    {
     "name": "stdout",
     "output_type": "stream",
     "text": [
      "[  2.40770432  -1.71214789   0.48442343 -18.09464562  -4.70571422\n",
      "   0.83615702]\n"
     ]
    }
   ],
   "source": [
    "'''Training data'''\n",
    "h_init = np.random.rand(6)\n",
    "l_rate = 0.05\n",
    "r_val = 0.\n",
    "parameters = trainingData(x1, x2, y, h_init, l_rate, r_val, 30000, sigmoidFunction)\n",
    "print(parameters)"
   ]
  },
  {
   "cell_type": "code",
   "execution_count": 7,
   "metadata": {},
   "outputs": [
    {
     "name": "stdout",
     "output_type": "stream",
     "text": [
      "[[-1.2        -1.19197324 -1.18394649 ...,  1.18394649  1.19197324  1.2       ]\n",
      " [-1.2        -1.19197324 -1.18394649 ...,  1.18394649  1.19197324  1.2       ]\n",
      " [-1.2        -1.19197324 -1.18394649 ...,  1.18394649  1.19197324  1.2       ]\n",
      " ..., \n",
      " [-1.2        -1.19197324 -1.18394649 ...,  1.18394649  1.19197324  1.2       ]\n",
      " [-1.2        -1.19197324 -1.18394649 ...,  1.18394649  1.19197324  1.2       ]\n",
      " [-1.2        -1.19197324 -1.18394649 ...,  1.18394649  1.19197324  1.2       ]] 300 300\n"
     ]
    }
   ],
   "source": [
    "'''create mesh'''\n",
    "x_plt = linspace(-1.2, 1.2, 300)\n",
    "y_plt = linspace(-1.2, 1.2, 300)\n",
    "X, Y = np.meshgrid(x_plt, y_plt)\n",
    "print(X, len(X), len(X[0]))"
   ]
  },
  {
   "cell_type": "code",
   "execution_count": 8,
   "metadata": {
    "collapsed": true
   },
   "outputs": [],
   "source": [
    "'''def prediction function'''\n",
    "def prediction(input_x, input_y, par):\n",
    "    '''\n",
    "    :param input_x: x1 feature\n",
    "    :param input_y: x2 feature\n",
    "    :param par: parameters\n",
    "    :return: prediction\n",
    "    '''\n",
    "    x_vec = np.array([1, input_x, input_y, input_x**2, input_y**2, input_x*input_y])\n",
    "    z = np.dot(x_vec, par)\n",
    "    if(z >=0 ):\n",
    "        return 1\n",
    "    else:\n",
    "        return -1"
   ]
  },
  {
   "cell_type": "code",
   "execution_count": 10,
   "metadata": {},
   "outputs": [
    {
     "data": {
      "image/png": "[encoded data removed]",
      "text/plain": [
       "<matplotlib.figure.Figure at 0x106759668>"
      ]
     },
     "metadata": {},
     "output_type": "display_data"
    }
   ],
   "source": [
    "'''make contour plot'''\n",
    "fig = plt.figure()\n",
    "\n",
    "Z = [[0. for i in range(300)] for i in range(300)]\n",
    "for i in range(300):\n",
    "    for j in range(300):\n",
    "        Z[i][j] = prediction(X[i][j], Y[i][j],parameters)\n",
    "plt.contourf(X, Y, Z, 10,\n",
    "                  cmap=plt.cm.cool)\n",
    "plt.axes().scatter(posi_x, posi_y, c='b', marker='x', label = \"positive set\")\n",
    "plt.axes().scatter(nega_x, nega_y, c='r', marker='o', label = \"negative set\")\n",
    "plt.colorbar()\n",
    "plt.show()\n"
   ]
  },
  {
   "cell_type": "code",
   "execution_count": null,
   "metadata": {
    "collapsed": true
   },
   "outputs": [],
   "source": []
  }
 ],
 "metadata": {
  "kernelspec": {
   "display_name": "Python 3",
   "language": "python",
   "name": "python3"
  },
  "language_info": {
   "codemirror_mode": {
    "name": "ipython",
    "version": 3
   },
   "file_extension": ".py",
   "mimetype": "text/x-python",
   "name": "python",
   "nbconvert_exporter": "python",
   "pygments_lexer": "ipython3",
   "version": "3.5.4"
  }
 },
 "nbformat": 4,
 "nbformat_minor": 2
}
